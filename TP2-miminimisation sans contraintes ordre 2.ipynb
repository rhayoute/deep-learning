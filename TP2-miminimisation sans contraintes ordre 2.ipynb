{
 "cells": [
  {
   "cell_type": "markdown",
   "metadata": {},
   "source": [
    "# Imports classiques\n",
    "Nous allons tout d'abord lancer les imports classiques"
   ]
  },
  {
   "cell_type": "code",
   "execution_count": 1,
   "metadata": {},
   "outputs": [],
   "source": [
    "%load_ext autoreload\n",
    "%autoreload 2\n",
    "%matplotlib inline\n",
    "import numpy as np\n",
    "import matplotlib.pyplot as plt\n",
    "import Optim_corr as opt\n",
    "import functions_corr as func"
   ]
  },
  {
   "cell_type": "markdown",
   "metadata": {},
   "source": [
    "## Modification des algorithmes\n",
    "Nous allons modifier la structure des algorithmes d'optimisation et les données qu'ils rendent. Au lieu de rendre plusieurs listes `x_list,cost_list,grad_list,...`, les algorithmes vont rendre un seul résultat `to_return` qui est un dictionnaire qui aura plusieurs entrées. Voici une liste de commandes pour comprendre le fonctionnement d'un dictionnaire "
   ]
  },
  {
   "cell_type": "code",
   "execution_count": 2,
   "metadata": {},
   "outputs": [
    {
     "name": "stdout",
     "output_type": "stream",
     "text": [
      "***** COUCOU ********* 1\n",
      "***** TITI ********* [3, 4, 5]\n",
      "***** X_LIST ********* [3, 5]\n",
      "***** ?? ********* 7\n",
      "**TMP**  12 ***b***  156\n",
      "**TMP** {'a': 12, 'b': 156}\n"
     ]
    }
   ],
   "source": [
    "to_return={} # Creation d'un dictionnaire\n",
    "to_return['Coucou']=1 # Creation de la variable coucou du dictionnaire, qui est un nombre\n",
    "to_return['x_list']=[] # Creation de la variable x_list du dictionnaire, qui est une list\n",
    "to_return['x_list'].append(3)\n",
    "to_return['x_list'].append(5)\n",
    "toto=[3,4,5]\n",
    "to_return['titi']=toto\n",
    "print(\"***** COUCOU *********\",to_return['Coucou'])\n",
    "print(\"***** TITI *********\",to_return['titi'])\n",
    "print(\"***** X_LIST *********\",to_return['x_list'])\n",
    "print(\"***** ?? *********\",to_return['titi'][1]+3) # Avez vous compris ce qui se passe ?\n",
    "tmp={'a':12,'b':156} # Creation directe d'un dictionnaire\n",
    "print(\"**TMP** \",tmp['a'],'***b*** ',tmp['b'])\n",
    "print(\"**TMP**\",tmp) # Affichage de tout le dictionnaire\n"
   ]
  },
  {
   "cell_type": "markdown",
   "metadata": {},
   "source": [
    "Copiez votre fichier dans un fichier `Optim.py` dans un fichier `Optim2.py`. Et modifiez toutes vos fonctions pour quelles vous rendent juste un dictionnaire.\n",
    "Nous allons maintenant créer une fonction `Wolfe(J,x,d,cost,grad,s=1.,itermax=20,e1=1.e-4,e2=0.99)` qui remplace la recherche de pas de Wolfe si on va dans la direction de descente `d`. les variables `cost` et `grad` sont respectivement la valeur de `J(x)` et le gradient $\\nabla J(x)$ Je l'ai mise dans un fichier `LibOptim.py`. Cette fonction devra vous rendre `s,cost_new,grad_new` qui sont respectivement : le pas trouvé par la méthode de Wolfe, le coût au nouveau point et le gradient au nouveau point, c'est à dire, respectivement $J(x+sd)$ et $\\nabla J(x+sd)$.\n",
    "Modifiez en conséquence votre fonction `Optim2.py` et vérifiez que vous n'avez rien cassé en lançant le genre de commandes suivantes :"
   ]
  },
  {
   "cell_type": "code",
   "execution_count": 34,
   "metadata": {},
   "outputs": [
    {
     "ename": "ModuleNotFoundError",
     "evalue": "No module named 'Optim2'",
     "output_type": "error",
     "traceback": [
      "\u001b[0;31m---------------------------------------------------------------------------\u001b[0m",
      "\u001b[0;31mModuleNotFoundError\u001b[0m                       Traceback (most recent call last)",
      "\u001b[0;32m<ipython-input-34-114f60afc4e0>\u001b[0m in \u001b[0;36m<module>\u001b[0;34m\u001b[0m\n\u001b[1;32m      1\u001b[0m \u001b[0;32mimport\u001b[0m \u001b[0mLibOptim\u001b[0m \u001b[0;32mas\u001b[0m \u001b[0mlib\u001b[0m\u001b[0;34m\u001b[0m\u001b[0;34m\u001b[0m\u001b[0m\n\u001b[1;32m      2\u001b[0m \u001b[0;32mimport\u001b[0m \u001b[0mOptim\u001b[0m \u001b[0;32mas\u001b[0m \u001b[0mopt1\u001b[0m\u001b[0;34m\u001b[0m\u001b[0;34m\u001b[0m\u001b[0m\n\u001b[0;32m----> 3\u001b[0;31m \u001b[0;32mimport\u001b[0m \u001b[0mOptim2\u001b[0m \u001b[0;32mas\u001b[0m \u001b[0mopt\u001b[0m\u001b[0;34m\u001b[0m\u001b[0;34m\u001b[0m\u001b[0m\n\u001b[0m\u001b[1;32m      4\u001b[0m \u001b[0mf\u001b[0m\u001b[0;34m=\u001b[0m\u001b[0mfunc\u001b[0m\u001b[0;34m.\u001b[0m\u001b[0mRosen\u001b[0m\u001b[0;34m(\u001b[0m\u001b[0;34m)\u001b[0m\u001b[0;34m\u001b[0m\u001b[0;34m\u001b[0m\u001b[0m\n\u001b[1;32m      5\u001b[0m \u001b[0mx0\u001b[0m\u001b[0;34m=\u001b[0m\u001b[0mnp\u001b[0m\u001b[0;34m.\u001b[0m\u001b[0marray\u001b[0m\u001b[0;34m(\u001b[0m\u001b[0;34m[\u001b[0m\u001b[0;34m-\u001b[0m\u001b[0;36m1\u001b[0m\u001b[0;34m,\u001b[0m\u001b[0;36m0\u001b[0m\u001b[0;34m]\u001b[0m\u001b[0;34m)\u001b[0m\u001b[0;34m\u001b[0m\u001b[0;34m\u001b[0m\u001b[0m\n",
      "\u001b[0;31mModuleNotFoundError\u001b[0m: No module named 'Optim2'"
     ]
    }
   ],
   "source": [
    "import LibOptim as lib\n",
    "import Optim as opt1\n",
    "import Optim2 as opt\n",
    "f=func.Rosen()\n",
    "x0=np.array([-1,0])\n",
    "x_list,cost_list,grad_list,step_list=opt1.Wolfe(f,x0,itermax=10000)\n",
    "r=opt.Wolfe(f,x0,itermax=10000)\n",
    "diff=np.array(cost_list)-np.array(r['cost_list'])\n",
    "print(diff.shape, np.linalg.norm(diff))"
   ]
  },
  {
   "cell_type": "markdown",
   "metadata": {},
   "source": [
    "## Méthode de Newton\n",
    "Nous nous intéressons à la méthode de Newton, il s'agit ici de choisir une direction de descente\n",
    "$$d_k=H[J](v_k)^{-1}\\nabla J(v_k)$$\n",
    "et un pas de $1$\n",
    "Créez une fonction `Newton(J,x_0,itermax=500,tol=1.e-5)` dans le fichier `Optim2.py` et lancez la méthode de Newton sur les différentes fonctions tests. Cette méthode vous un dictionnaire avec les entrées `x_list,cost_list,grad_list,step_list`, voir le TP1 pour les explications sur les différentes variables.\n",
    "Vous rajouterez aussi dans le dictionnaire l'entrée `angle_list` qui est le cosinus de l'angle fait entre la direction de descente choisie par l'algorithme et le gradient. On vérifiera que `angle_list` est négatif et proche de `1`. \n",
    "Pour faire l'inversion du système, on utilisera la fonction `solve` de la bibliothèque `scipy.linalg`.\n",
    "Testez ci-dessous votre algorithme pour les différentes fonctions."
   ]
  },
  {
   "cell_type": "code",
   "execution_count": null,
   "metadata": {},
   "outputs": [],
   "source": [
    "\n"
   ]
  },
  {
   "cell_type": "code",
   "execution_count": null,
   "metadata": {},
   "outputs": [],
   "source": [
    "\n"
   ]
  },
  {
   "cell_type": "markdown",
   "metadata": {},
   "source": [
    "## Stabilisation de Newton\n",
    "Normalement vous avez vu que l'algorithme de Newton ne fonctionne pas très bien avec la fonction `oscill`. L'objectif est de stabiliser cet algorithme de Newton en y rajoutant une recherche de pas de style `Wolfe`. Implémentez une foncion `Newton_Wolfe` qui concatène les algorithmes de `Newton` et de `Wolfe`. Vous prendrez bien garde à regarder le nombre de calculs que vous faites de la Hessienne, du gradient et d'évaluations de la fonction.\n",
    "De plus l'algorithme de Wolfe ne va pas très bien fonctionné si la direction de choisie n'est pas de descente, pour cela si vous trouvez que $(d,\\nabla J(x)) >0$, vous prendrez comme direction de descente la direction donnée par $d=-\\nabla J(x)$"
   ]
  },
  {
   "cell_type": "code",
   "execution_count": null,
   "metadata": {},
   "outputs": [],
   "source": []
  },
  {
   "cell_type": "markdown",
   "metadata": {},
   "source": [
    "## L-BFGS\n",
    "Nous allons nous intéresser à l'algorithme Limited Memory BFGS. Cet algorithme est du type BFGS, c'est à dire qu'il estime l'inverse de la Hessienne de `J`. Le `L` dans l'algorithme signifie qu'il est à mémoire limitée, c'est à dire qu'il ne garde en mémoire que les $L$ dernières itérations de calcul pour estimer la Hessienne.\n",
    "L'algorithme est le suivant : Nous sommes à l'itération $k$, nous notons $x_k$ l'itéré et nous avons stocké les vecteurs suivants pour tout $k_{min}\\le i\\le k$.\n",
    "$$ s_i=x_{i}-x_{i-1} \\text{ et } y_i=\\nabla J(x_{i}) -\\nabla J(x_{i-1})$$\n",
    "Et on a aussi stocké $\\rho_i=\\frac{1}{(s_i,y_i)}$. Tous les $\\rho_i$ doivent être positifs.\n",
    "L'algorithme est le suivant \n",
    "# Algorithme\n",
    "\n",
    "$r=-\\nabla J(x_k)$\n",
    "\n",
    "Pour $i=k,k-1,\\dots k_{min}$\n",
    "\n",
    "... $\\alpha_i=\\rho_i(s_i \\cdot r)$\n",
    "\n",
    "... $r=r-\\alpha_i y_i$\n",
    "\n",
    "$r=\\displaystyle \\frac{(s_k\\cdot y_k)}{(y_k\\cdot y_k)}*r$\n",
    "\n",
    "Pour $i=k_{min},k_{min}+1,\\dots,k$\n",
    "\n",
    "... $\\beta_i=\\rho_i(y_i\\cdot r)$\n",
    "\n",
    "... $r=r+(\\alpha_i-\\beta_i)s_i$\n",
    "\n",
    "rend r\n",
    "# Fonctions sur les listes\n",
    "Vous aurez sans doute besoin des fonctions suivantes pour les listes"
   ]
  },
  {
   "cell_type": "code",
   "execution_count": 36,
   "metadata": {},
   "outputs": [
    {
     "name": "stdout",
     "output_type": "stream",
     "text": [
      "[(0, 0), (2, 3), (4, 6), (6, 9), (8, 12)]\n",
      "(6, 9) (8, 12)\n",
      "*** Pop ***\n",
      "[(2, 3), (4, 6), (6, 9), (8, 12)]\n",
      "*** Parcours ***\n",
      "2 et 3\n",
      "4 et 6\n",
      "6 et 9\n",
      "8 et 12\n",
      "*** Parcours Inverse***\n",
      "(8, 12)\n",
      "(6, 9)\n",
      "(4, 6)\n",
      "(2, 3)\n",
      "[4, 16, 36, 64]\n",
      "*** Parcours de deux listes ensembles***\n",
      "4 et 2 et encore 3\n",
      "16 et 4 et encore 6\n",
      "36 et 6 et encore 9\n",
      "64 et 8 et encore 12\n",
      "*** Append ***\n",
      "[4, 16, 36, 64]\n",
      "[4, 16, 36, 64, 546]\n",
      "*** Inversion ***\n",
      "[546, 64, 36, 16, 4]\n",
      "5\n"
     ]
    }
   ],
   "source": [
    "a=[(2*i,3*i) for i in range(5) ]\n",
    "print(a)\n",
    "print(a[3],a[-1])\n",
    "print('*** Pop ***')\n",
    "a.pop(0)\n",
    "print(a)\n",
    "print('*** Parcours ***')\n",
    "for e,f in a :\n",
    "      print(e,'et',f)\n",
    "print('*** Parcours Inverse***')\n",
    "for e in reversed(a) :\n",
    "      print(e)\n",
    "b=[e**2 for e,f in a]\n",
    "print(b)\n",
    "print('*** Parcours de deux listes ensembles***')\n",
    "for (m,(t,p)) in zip(b,a) :\n",
    "    print(m,'et',t,'et encore',p)\n",
    "print('*** Append ***')\n",
    "print(b)\n",
    "b.append(546)\n",
    "print(b)\n",
    "print('*** Inversion ***')\n",
    "c=list(reversed(b))\n",
    "print(c)\n",
    "print(len(b))"
   ]
  },
  {
   "cell_type": "markdown",
   "metadata": {},
   "source": [
    "# Class BFGS\n",
    "Créez une classe `BFGS` dans `LibOptim.py`, sa fonction `__init__` sera de la forme \n",
    "`__init__(self,nb_stock_max=8)` où `nb_stock_max` est le nombre maximum d'itérations prises en compte. Cette fonction créera aussi une liste vide appelée `stock` qui conserve les $s_i,g_i,\\rho_i$. Elle dera aussi créer une liste vide nommée `last_iter`.\n",
    "\n",
    "# Push\n",
    "Nous allons maintenant créer une fonction `push(self, x, grad)` qui enregistre $s_k,g_k,\\rho_k$. Pour cela, on a besoin de $x_{k-1},\\nabla J(x_{k-1})$. Si ils existent, ils se trouvent dans la liste `self.last_iter`. Ensuite on peut calculer $s_k,g_k$ et $\\rho_k$. \n",
    "\n",
    "Si $\\rho_k$ est positif, alors on enregistre le triplet $(s_k,g_k,\\rho_k)$ à la fin de la liste `self.stock`, en vérifiant que stock ne doit contenir au maximum que les dernières `self.nb_stock_max` itérations. \n",
    "\n",
    "Si $\\rho_k$ est négatif, quelquechose c'est mal passé, on vide le `self.stock`.\n",
    "\n",
    "A la fin, on n'oublie pas de mettre $x_{k}$ et $\\nabla J(x_{k})$ dans `self.last_iter` pour être sûr de les y trouver la prochaine fois.\n",
    "\n",
    "# Get\n",
    "\n",
    "Nous allons maintenant créer une fonction `get(self, grad)` qui modifie la direction de descente et applique l'algorithme ci-dessus. Cette fonction doit nous rendre le `r` final. Si le `self.stock` est vide, cette fonction doit nous rendre `-grad`\n",
    "\n",
    "# C'est l'heure de tester ...\n",
    "Lancez une méthode de Newton_Wolfe sur votre fonction préférée et à chaque itération calculez ce que donnerait un L-BFGS. Comparez les angles des directions entre la méthode de Newton et le L-BFGS, comparez aussi le ration des normes. Ensuite lancez un LBFGS avec recherche de pas de Wolfe sur vos tests préférez et obtenez le comportement de Newton_Wolfe sans le calcul de la Hessienne...\n"
   ]
  },
  {
   "cell_type": "code",
   "execution_count": null,
   "metadata": {},
   "outputs": [],
   "source": []
  }
 ],
 "metadata": {
  "kernelspec": {
   "display_name": "Python 3",
   "language": "python",
   "name": "python3"
  },
  "language_info": {
   "codemirror_mode": {
    "name": "ipython",
    "version": 3
   },
   "file_extension": ".py",
   "mimetype": "text/x-python",
   "name": "python",
   "nbconvert_exporter": "python",
   "pygments_lexer": "ipython3",
   "version": "3.7.4"
  }
 },
 "nbformat": 4,
 "nbformat_minor": 1
}
